{
 "cells": [
  {
   "cell_type": "markdown",
   "id": "d6a0ec5e-ff99-48b4-a22a-9ba69dd3b702",
   "metadata": {
    "tags": []
   },
   "source": [
    "# Data Science Tools and Ecosystem"
   ]
  },
  {
   "cell_type": "markdown",
   "id": "bbd1afaa-e516-4512-8c3f-877f3a683a7b",
   "metadata": {},
   "source": [
    "In this notebook, Data Science Tools and Ecosystem are summarized."
   ]
  },
  {
   "cell_type": "markdown",
   "id": "81e6cf3b-9904-48a2-8335-9310a79ea541",
   "metadata": {},
   "source": [
    "**Obtectives:**\n",
    "* List popular languages for Data Science\n",
    "* List libraries used by Data Scientists\n",
    "* List Data Science Tool\n",
    "* Some expamples of arithmatic experssion in Python"
   ]
  },
  {
   "cell_type": "markdown",
   "id": "1686acb7-bf42-4cb9-9770-54e6e583f8b0",
   "metadata": {},
   "source": [
    "Some of the popular languages that Data Scientists use are:\n",
    "1. Phython\n",
    "2. R\n",
    "3. Java\n",
    "4. Julia\n",
    "5. Scala\n",
    "6. C/C++\n",
    "7. Go"
   ]
  },
  {
   "cell_type": "markdown",
   "id": "387e3dfd-3b8b-4c73-82a0-69d40d73bdba",
   "metadata": {},
   "source": [
    "Some of the commonly used libraries used by Data Scientists include:\n",
    "1. Pandas\n",
    "2. NumPy\n",
    "3. Matplotlib\n",
    "4. Seaborn\n",
    "5. Scikit-learn\n",
    "6. Keras\n",
    "7. TensorFlow\n",
    "8. PyTorch"
   ]
  },
  {
   "cell_type": "markdown",
   "id": "d22e6abb-f250-49ff-8ac0-472aba86d8bc",
   "metadata": {},
   "source": [
    "|Data Science Tools|\n",
    "|------------------|\n",
    "|Hadoop|\n",
    "|Apache Spark|\n",
    "|RStudio|"
   ]
  },
  {
   "cell_type": "markdown",
   "id": "0751a5c9-bcf7-4e6c-ba01-81179fa06b93",
   "metadata": {},
   "source": [
    "### Below are a few examples of evaluating arithmetic expressions in Python"
   ]
  },
  {
   "cell_type": "markdown",
   "id": "efc0d08c-ff08-4b4f-8aaf-5526721cf5e3",
   "metadata": {},
   "source": [
    "This a simple arithmetic expression to mutiply then add integers"
   ]
  },
  {
   "cell_type": "code",
   "execution_count": 16,
   "id": "320e9f30-d051-4d5c-a628-3ab1c926e4fe",
   "metadata": {
    "tags": []
   },
   "outputs": [
    {
     "data": {
      "text/plain": [
       "17"
      ]
     },
     "execution_count": 16,
     "metadata": {},
     "output_type": "execute_result"
    }
   ],
   "source": [
    "(3*4)+5"
   ]
  },
  {
   "cell_type": "markdown",
   "id": "a06124e5-a224-4bf5-85fd-a7d92137042d",
   "metadata": {},
   "source": [
    "This will convert 200 minutes to hours by diving by 60"
   ]
  },
  {
   "cell_type": "code",
   "execution_count": 17,
   "id": "177ba930-fcfe-4cb6-b85c-a069d2da31c0",
   "metadata": {
    "tags": []
   },
   "outputs": [
    {
     "data": {
      "text/plain": [
       "3.3333333333333335"
      ]
     },
     "execution_count": 17,
     "metadata": {},
     "output_type": "execute_result"
    }
   ],
   "source": [
    "200/60"
   ]
  },
  {
   "cell_type": "markdown",
   "id": "329bf9c1-417e-4795-b47c-45ee931f8918",
   "metadata": {},
   "source": [
    "## Author\n",
    "Hilana Mounir"
   ]
  }
 ],
 "metadata": {
  "kernelspec": {
   "display_name": "Python",
   "language": "python",
   "name": "conda-env-python-py"
  },
  "language_info": {
   "codemirror_mode": {
    "name": "ipython",
    "version": 3
   },
   "file_extension": ".py",
   "mimetype": "text/x-python",
   "name": "python",
   "nbconvert_exporter": "python",
   "pygments_lexer": "ipython3",
   "version": "3.7.12"
  }
 },
 "nbformat": 4,
 "nbformat_minor": 5
}
